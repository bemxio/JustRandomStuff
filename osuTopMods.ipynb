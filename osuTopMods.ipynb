{
 "cells": [
  {
   "cell_type": "markdown",
   "metadata": {},
   "source": [
    "# osu! | Top mods used in plays"
   ]
  },
  {
   "cell_type": "markdown",
   "metadata": {},
   "source": [
    "Based on top 100 plays by PP. Generates a graph with all data gathered and sorted."
   ]
  },
  {
   "cell_type": "markdown",
   "metadata": {},
   "source": [
    "## Set all variables and install required modules"
   ]
  },
  {
   "cell_type": "markdown",
   "metadata": {},
   "source": [
    "Type all data when prompted to. You can get an API key from https://osu.ppy.sh/p/api by registering an application (name & URL of the app can be random)."
   ]
  },
  {
   "cell_type": "code",
   "execution_count": null,
   "metadata": {},
   "outputs": [],
   "source": [
    "!pip install plotly\n",
    "!pip install requests"
   ]
  },
  {
   "cell_type": "code",
   "execution_count": 1,
   "metadata": {},
   "outputs": [],
   "source": [
    "from IPython.display import clear_output\n",
    "\n",
    "user_id = input(\"Enter a username/ID: \")\n",
    "key = input(\"Enter your osu! API key: \")\n",
    "clear_output()\n",
    "print(\"Done!\")"
   ]
  },
  {
   "cell_type": "markdown",
   "metadata": {},
   "source": [
    "## Get data from osu! servers"
   ]
  },
  {
   "cell_type": "code",
   "execution_count": null,
   "metadata": {},
   "outputs": [],
   "source": [
    "import requests\n",
    "\n",
    "url = \"https://osu.ppy.sh/api/get_user_best\"\n",
    "limit = 100\n",
    "params = {\"k\": key, \"u\": user_id, \"limit\": limit}\n",
    "\n",
    "with requests.get(url, params=params) as r:\n",
    "    scores = r.json()"
   ]
  },
  {
   "cell_type": "markdown",
   "metadata": {},
   "source": [
    "## Parse data for plot"
   ]
  },
  {
   "cell_type": "code",
   "execution_count": null,
   "metadata": {},
   "outputs": [],
   "source": [
    "from enum import Enum\n",
    "\n",
    "class Mod(Enum):\n",
    "    NoMod          = 0\n",
    "    NoFail         = 1\n",
    "    Easy           = 2\n",
    "    NoVideo        = 4\n",
    "    Hidden         = 8\n",
    "    HardRock       = 16\n",
    "    SuddenDeath    = 32\n",
    "    DoubleTime     = 64\n",
    "    Relax          = 128\n",
    "    HalfTime       = 256\n",
    "    Nightcore      = 512\n",
    "    Flashlight     = 1024\n",
    "    Autoplay       = 2048\n",
    "    SpunOut        = 4096\n",
    "    Autopilot      = 8192\n",
    "    Perfect        = 16384\n",
    "    Key4           = 32768\n",
    "    Key5           = 65536\n",
    "    Key6           = 131072\n",
    "    Key7           = 262144\n",
    "    Key8           = 524288\n",
    "    keyMod         = 1015808\n",
    "    FadeIn         = 1048576\n",
    "    Random         = 2097152\n",
    "    LastMod        = 4194304\n",
    "    TargetPractice = 8388608\n",
    "    Key9           = 16777216\n",
    "    Coop           = 33554432\n",
    "    Key1           = 67108864\n",
    "    Key3           = 134217728\n",
    "    Key2           = 268435456"
   ]
  },
  {
   "cell_type": "code",
   "execution_count": null,
   "metadata": {},
   "outputs": [],
   "source": [
    "\"\"\"\n",
    "Generator yielding value of each bit in an integer \n",
    "if it's set + value of LSB no matter what.\n",
    "\"\"\"\n",
    "def parse_mods(value):\n",
    "    def bits(n):\n",
    "        if n == 0:\n",
    "            yield 0\n",
    "        while n:\n",
    "            b = n & (~n+1)\n",
    "            yield b\n",
    "            n ^= b\n",
    "    value = int(value)\n",
    "    bit_values_gen = bits(value)\n",
    "    return [Mod(i) for i in bit_values_gen]\n",
    "\n",
    "result = {}\n",
    "scores = [parse_mods(i[\"enabled_mods\"]) for i in scores]\n",
    "for score in scores:\n",
    "    for mod in score:\n",
    "        try:\n",
    "            result[mod.name] += 1\n",
    "        except KeyError:\n",
    "            result[mod.name] = 0\n",
    "            result[mod.name] += 1"
   ]
  },
  {
   "cell_type": "markdown",
   "metadata": {},
   "source": [
    "## Generate a plot and show it to a user"
   ]
  },
  {
   "cell_type": "code",
   "execution_count": null,
   "metadata": {},
   "outputs": [],
   "source": [
    "import plotly.io as pio\n",
    "\n",
    "fig = {\"data\": [{\"type\": \"bar\", \"y\": [i for i in result.values()], \"x\": [i for i in result.keys()]}], \"layout\": {\"title\": {\"text\": f\"Most played mods by {user_id}\"}}}\n",
    "pio.show(fig, renderer=\"colab\")"
   ]
  }
 ],
 "metadata": {
  "kernelspec": {
   "display_name": "Python 3",
   "language": "python",
   "name": "python3"
  },
  "language_info": {
   "codemirror_mode": {
    "name": "ipython",
    "version": 3
   },
   "file_extension": ".py",
   "mimetype": "text/x-python",
   "name": "python",
   "nbconvert_exporter": "python",
   "pygments_lexer": "ipython3",
   "version": "3.8.3"
  }
 },
 "nbformat": 4,
 "nbformat_minor": 4
}
